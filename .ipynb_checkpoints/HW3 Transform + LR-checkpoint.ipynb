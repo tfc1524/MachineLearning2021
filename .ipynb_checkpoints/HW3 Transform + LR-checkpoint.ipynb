{
 "cells": [
  {
   "cell_type": "code",
   "execution_count": 1,
   "id": "d1893b84",
   "metadata": {},
   "outputs": [],
   "source": [
    "import pandas as pd\n",
    "import numpy as np"
   ]
  },
  {
   "cell_type": "code",
   "execution_count": 6,
   "id": "b2ffd094",
   "metadata": {},
   "outputs": [
    {
     "data": {
      "text/html": [
       "<div>\n",
       "<style scoped>\n",
       "    .dataframe tbody tr th:only-of-type {\n",
       "        vertical-align: middle;\n",
       "    }\n",
       "\n",
       "    .dataframe tbody tr th {\n",
       "        vertical-align: top;\n",
       "    }\n",
       "\n",
       "    .dataframe thead th {\n",
       "        text-align: right;\n",
       "    }\n",
       "</style>\n",
       "<table border=\"1\" class=\"dataframe\">\n",
       "  <thead>\n",
       "    <tr style=\"text-align: right;\">\n",
       "      <th></th>\n",
       "      <th>x1</th>\n",
       "      <th>x2</th>\n",
       "      <th>x3</th>\n",
       "      <th>x4</th>\n",
       "      <th>x5</th>\n",
       "      <th>x6</th>\n",
       "      <th>x7</th>\n",
       "      <th>x8</th>\n",
       "      <th>x9</th>\n",
       "      <th>x10</th>\n",
       "      <th>y</th>\n",
       "    </tr>\n",
       "  </thead>\n",
       "  <tbody>\n",
       "    <tr>\n",
       "      <th>0</th>\n",
       "      <td>2.965153</td>\n",
       "      <td>2.447427</td>\n",
       "      <td>1.958754</td>\n",
       "      <td>-0.073541</td>\n",
       "      <td>-2.088459</td>\n",
       "      <td>-1.156375</td>\n",
       "      <td>-0.361324</td>\n",
       "      <td>1.621895</td>\n",
       "      <td>-4.510862</td>\n",
       "      <td>-0.006392</td>\n",
       "      <td>-1</td>\n",
       "    </tr>\n",
       "    <tr>\n",
       "      <th>1</th>\n",
       "      <td>-4.303194</td>\n",
       "      <td>-0.032933</td>\n",
       "      <td>2.568076</td>\n",
       "      <td>3.488505</td>\n",
       "      <td>1.726636</td>\n",
       "      <td>0.230978</td>\n",
       "      <td>1.483300</td>\n",
       "      <td>-4.560341</td>\n",
       "      <td>-0.949456</td>\n",
       "      <td>-0.744622</td>\n",
       "      <td>-1</td>\n",
       "    </tr>\n",
       "    <tr>\n",
       "      <th>2</th>\n",
       "      <td>-0.261568</td>\n",
       "      <td>0.974854</td>\n",
       "      <td>-1.132005</td>\n",
       "      <td>-0.495228</td>\n",
       "      <td>-1.851622</td>\n",
       "      <td>-4.663177</td>\n",
       "      <td>-0.368071</td>\n",
       "      <td>-4.031803</td>\n",
       "      <td>2.728657</td>\n",
       "      <td>4.001672</td>\n",
       "      <td>-1</td>\n",
       "    </tr>\n",
       "  </tbody>\n",
       "</table>\n",
       "</div>"
      ],
      "text/plain": [
       "         x1        x2        x3        x4        x5        x6        x7  \\\n",
       "0  2.965153  2.447427  1.958754 -0.073541 -2.088459 -1.156375 -0.361324   \n",
       "1 -4.303194 -0.032933  2.568076  3.488505  1.726636  0.230978  1.483300   \n",
       "2 -0.261568  0.974854 -1.132005 -0.495228 -1.851622 -4.663177 -0.368071   \n",
       "\n",
       "         x8        x9       x10  y  \n",
       "0  1.621895 -4.510862 -0.006392 -1  \n",
       "1 -4.560341 -0.949456 -0.744622 -1  \n",
       "2 -4.031803  2.728657  4.001672 -1  "
      ]
     },
     "execution_count": 6,
     "metadata": {},
     "output_type": "execute_result"
    }
   ],
   "source": [
    "train = pd.read_excel('hw3_train.xlsx', header=0)\n",
    "train_X = train.drop('y', axis=1)\n",
    "train_y = train['y']\n",
    "train.head(3)"
   ]
  },
  {
   "cell_type": "code",
   "execution_count": 33,
   "id": "cf1afd99",
   "metadata": {},
   "outputs": [],
   "source": [
    "test = pd.read_excel('hw3_test.xlsx', header=0)\n",
    "test_X = test.drop('y', axis=1)\n",
    "test_y = test['y']"
   ]
  },
  {
   "cell_type": "code",
   "execution_count": 39,
   "id": "a2c6b2a8",
   "metadata": {},
   "outputs": [],
   "source": [
    "def sign(z):\n",
    "    if z > 0:\n",
    "        return 1\n",
    "    else:\n",
    "        return -1"
   ]
  },
  {
   "cell_type": "code",
   "execution_count": 51,
   "id": "bb9f9777",
   "metadata": {
    "scrolled": true
   },
   "outputs": [
    {
     "name": "stdout",
     "output_type": "stream",
     "text": [
      "0.181\n",
      "0.5073333333333333\n",
      "0.3263333333333333\n"
     ]
    }
   ],
   "source": [
    "# Q13\n",
    "\n",
    "# transform train\n",
    "q2_train = pd.DataFrame(np.power(np.matrix(train_X), 2))\n",
    "q2_train.columns = ['x{}_{}'.format(i, 2) for i in range(len(train_X.columns))]\n",
    "new_train_X = pd.concat([pd.Series([1.] * len(train_X)), train_X, q2_train], axis=1)\n",
    "\n",
    "# transform test\n",
    "q2_test = pd.DataFrame(np.power(np.matrix(test_X), 2))\n",
    "q2_test.columns = ['x{}_{}'.format(i, 2) for i in range(len(test_X.columns))]\n",
    "new_test_X = pd.concat([pd.Series([1.] * len(test_X)), test_X, q2_test], axis=1)\n",
    "new_test_X = np.matrix(new_test_X)\n",
    "\n",
    "# get w\n",
    "new_train_X = np.matrix(new_train_X)\n",
    "w = np.linalg.inv(np.transpose(new_train_X).dot(new_train_X)).dot(np.transpose(new_train_X)).dot(train_y)\n",
    "\n",
    "# get ein\n",
    "ein = 0\n",
    "for j in range(len(new_train_X)):  # 跑每筆資料\n",
    "    y_predict = w.dot(np.transpose(new_train_X[j])).item()\n",
    "    if sign(y_predict) * train_y[j] < 0:\n",
    "        ein += 1\n",
    "ein /= len(train_X)\n",
    "\n",
    "# get eout\n",
    "eout = 0\n",
    "for j in range(len(new_test_X)):  # 跑每筆資料\n",
    "    y_predict = w.dot(np.transpose(new_test_X[j])).item()\n",
    "    if sign(y_predict) * test_y[j] < 0:\n",
    "        eout += 1\n",
    "eout /= len(test_X)\n",
    "\n",
    "print(ein)\n",
    "print(eout)\n",
    "print(abs(ein - eout))"
   ]
  },
  {
   "cell_type": "code",
   "execution_count": null,
   "id": "869e6754",
   "metadata": {},
   "outputs": [],
   "source": [
    "# Q14\n",
    "\n",
    "objective_power = int(input())\n",
    "# transform train\n",
    "for i in range(2, objective_power + 1):\n",
    "    qi_train = pd.DataFrame(np.power(np.matrix(train_X), i))\n",
    "    qi_train.columns = ['x{}_{}'.format(j, i) for j in range(len(train_X.columns))]\n",
    "    \n",
    "    if i == 2:\n",
    "        new_train_X = pd.concat([pd.Series([1.] * len(train_X)), train_X, qi_train], axis=1)\n",
    "    else:\n",
    "        new_train_X = pd.concat([new_train_X, qi_train], axis=1)\n",
    "\n",
    "# transform test\n",
    "q2_test = pd.DataFrame(np.power(np.matrix(test_X), 2))\n",
    "q2_test.columns = ['x{}_{}'.format(i, 2) for i in range(len(test_X.columns))]\n",
    "new_test_X = pd.concat([pd.Series([1.] * len(test_X)), test_X, q2_test], axis=1)\n",
    "new_test_X = np.matrix(new_test_X)\n",
    "\n",
    "# get w\n",
    "new_train_X = np.matrix(new_train_X)\n",
    "w = np.linalg.inv(np.transpose(new_train_X).dot(new_train_X)).dot(np.transpose(new_train_X)).dot(train_y)\n",
    "\n",
    "# get ein\n",
    "ein = 0\n",
    "for j in range(len(new_train_X)):  # 跑每筆資料\n",
    "    y_predict = w.dot(np.transpose(new_train_X[j])).item()\n",
    "    if sign(y_predict) * train_y[j] < 0:\n",
    "        ein += 1\n",
    "ein /= len(train_X)\n",
    "\n",
    "# get eout\n",
    "eout = 0\n",
    "for j in range(len(new_test_X)):  # 跑每筆資料\n",
    "    y_predict = w.dot(np.transpose(new_test_X[j])).item()\n",
    "    if sign(y_predict) * test_y[j] < 0:\n",
    "        eout += 1\n",
    "eout /= len(test_X)\n"
   ]
  }
 ],
 "metadata": {
  "kernelspec": {
   "display_name": "Python 3",
   "language": "python",
   "name": "python3"
  },
  "language_info": {
   "codemirror_mode": {
    "name": "ipython",
    "version": 3
   },
   "file_extension": ".py",
   "mimetype": "text/x-python",
   "name": "python",
   "nbconvert_exporter": "python",
   "pygments_lexer": "ipython3",
   "version": "3.9.5"
  }
 },
 "nbformat": 4,
 "nbformat_minor": 5
}
