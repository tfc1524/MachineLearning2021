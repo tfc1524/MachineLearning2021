{
 "cells": [
  {
   "cell_type": "code",
   "execution_count": 1,
   "id": "83b1fe3b",
   "metadata": {},
   "outputs": [],
   "source": [
    "import pandas as pd\n",
    "import numpy as np"
   ]
  },
  {
   "cell_type": "code",
   "execution_count": 6,
   "id": "1194672e",
   "metadata": {},
   "outputs": [
    {
     "data": {
      "text/html": [
       "<div>\n",
       "<style scoped>\n",
       "    .dataframe tbody tr th:only-of-type {\n",
       "        vertical-align: middle;\n",
       "    }\n",
       "\n",
       "    .dataframe tbody tr th {\n",
       "        vertical-align: top;\n",
       "    }\n",
       "\n",
       "    .dataframe thead th {\n",
       "        text-align: right;\n",
       "    }\n",
       "</style>\n",
       "<table border=\"1\" class=\"dataframe\">\n",
       "  <thead>\n",
       "    <tr style=\"text-align: right;\">\n",
       "      <th></th>\n",
       "      <th>x1</th>\n",
       "      <th>x2</th>\n",
       "      <th>x3</th>\n",
       "      <th>x4</th>\n",
       "      <th>x5</th>\n",
       "      <th>x6</th>\n",
       "      <th>x7</th>\n",
       "      <th>x8</th>\n",
       "      <th>x9</th>\n",
       "      <th>x10</th>\n",
       "      <th>y</th>\n",
       "    </tr>\n",
       "  </thead>\n",
       "  <tbody>\n",
       "    <tr>\n",
       "      <th>0</th>\n",
       "      <td>2.965153</td>\n",
       "      <td>2.447427</td>\n",
       "      <td>1.958754</td>\n",
       "      <td>-0.073541</td>\n",
       "      <td>-2.088459</td>\n",
       "      <td>-1.156375</td>\n",
       "      <td>-0.361324</td>\n",
       "      <td>1.621895</td>\n",
       "      <td>-4.510862</td>\n",
       "      <td>-0.006392</td>\n",
       "      <td>-1</td>\n",
       "    </tr>\n",
       "    <tr>\n",
       "      <th>1</th>\n",
       "      <td>-4.303194</td>\n",
       "      <td>-0.032933</td>\n",
       "      <td>2.568076</td>\n",
       "      <td>3.488505</td>\n",
       "      <td>1.726636</td>\n",
       "      <td>0.230978</td>\n",
       "      <td>1.483300</td>\n",
       "      <td>-4.560341</td>\n",
       "      <td>-0.949456</td>\n",
       "      <td>-0.744622</td>\n",
       "      <td>-1</td>\n",
       "    </tr>\n",
       "    <tr>\n",
       "      <th>2</th>\n",
       "      <td>-0.261568</td>\n",
       "      <td>0.974854</td>\n",
       "      <td>-1.132005</td>\n",
       "      <td>-0.495228</td>\n",
       "      <td>-1.851622</td>\n",
       "      <td>-4.663177</td>\n",
       "      <td>-0.368071</td>\n",
       "      <td>-4.031803</td>\n",
       "      <td>2.728657</td>\n",
       "      <td>4.001672</td>\n",
       "      <td>-1</td>\n",
       "    </tr>\n",
       "  </tbody>\n",
       "</table>\n",
       "</div>"
      ],
      "text/plain": [
       "         x1        x2        x3        x4        x5        x6        x7  \\\n",
       "0  2.965153  2.447427  1.958754 -0.073541 -2.088459 -1.156375 -0.361324   \n",
       "1 -4.303194 -0.032933  2.568076  3.488505  1.726636  0.230978  1.483300   \n",
       "2 -0.261568  0.974854 -1.132005 -0.495228 -1.851622 -4.663177 -0.368071   \n",
       "\n",
       "         x8        x9       x10  y  \n",
       "0  1.621895 -4.510862 -0.006392 -1  \n",
       "1 -4.560341 -0.949456 -0.744622 -1  \n",
       "2 -4.031803  2.728657  4.001672 -1  "
      ]
     },
     "execution_count": 6,
     "metadata": {},
     "output_type": "execute_result"
    }
   ],
   "source": [
    "train = pd.read_excel('hw3_train.xlsx', header=0)\n",
    "train_X = train.drop('y', axis=1)\n",
    "train_y = train['y']\n",
    "train.head(3)"
   ]
  },
  {
   "cell_type": "code",
   "execution_count": 33,
   "id": "b1affb8e",
   "metadata": {},
   "outputs": [],
   "source": [
    "test = pd.read_excel('hw3_test.xlsx', header=0)\n",
    "test_X = test.drop('y', axis=1)\n",
    "test_y = test['y']"
   ]
  },
  {
   "cell_type": "code",
   "execution_count": 39,
   "id": "9ebaef8c",
   "metadata": {},
   "outputs": [],
   "source": [
    "def sign(z):\n",
    "    if z > 0:\n",
    "        return 1\n",
    "    else:\n",
    "        return -1"
   ]
  },
  {
   "cell_type": "code",
   "execution_count": 51,
   "id": "389c536c",
   "metadata": {
    "scrolled": true
   },
   "outputs": [
    {
     "name": "stdout",
     "output_type": "stream",
     "text": [
      "0.181\n",
      "0.5073333333333333\n",
      "0.3263333333333333\n"
     ]
    }
   ],
   "source": [
    "# Q12\n",
    "\n",
    "# transform train\n",
    "q2_train = pd.DataFrame(np.power(np.matrix(train_X), 2))\n",
    "q2_train.columns = ['x{}_{}'.format(i, 2) for i in range(len(train_X.columns))]\n",
    "new_train_X = pd.concat([pd.Series([1.] * len(train_X)), train_X, q2_train], axis=1)\n",
    "\n",
    "# transform test\n",
    "q2_test = pd.DataFrame(np.power(np.matrix(test_X), 2))\n",
    "q2_test.columns = ['x{}_{}'.format(i, 2) for i in range(len(test_X.columns))]\n",
    "new_test_X = pd.concat([pd.Series([1.] * len(test_X)), test_X, q2_test], axis=1)\n",
    "new_test_X = np.matrix(new_test_X)\n",
    "\n",
    "# get w\n",
    "new_train_X = np.matrix(new_train_X)\n",
    "w = np.linalg.inv(np.transpose(new_train_X).dot(new_train_X)).dot(np.transpose(new_train_X)).dot(train_y)\n",
    "\n",
    "# get ein\n",
    "ein = 0\n",
    "for j in range(len(new_train_X)):  # 跑每筆資料\n",
    "    y_predict = w.dot(np.transpose(new_train_X[j])).item()\n",
    "    if sign(y_predict) * train_y[j] < 0:\n",
    "        ein += 1\n",
    "ein /= len(train_X)\n",
    "\n",
    "# get eout\n",
    "eout = 0\n",
    "for j in range(len(new_test_X)):  # 跑每筆資料\n",
    "    y_predict = w.dot(np.transpose(new_test_X[j])).item()\n",
    "    if sign(y_predict) * test_y[j] < 0:\n",
    "        eout += 1\n",
    "eout /= len(test_X)\n",
    "\n",
    "print(ein)\n",
    "print(eout)\n",
    "print(abs(ein - eout))"
   ]
  },
  {
   "cell_type": "code",
   "execution_count": 53,
   "id": "ee51f747",
   "metadata": {},
   "outputs": [
    {
     "name": "stdout",
     "output_type": "stream",
     "text": [
      "8\n",
      "0.052\n",
      "0.5096666666666667\n",
      "0.4576666666666667\n"
     ]
    }
   ],
   "source": [
    "# Q13\n",
    "\n",
    "objective_power = int(input())\n",
    "# transform train\n",
    "for i in range(2, objective_power + 1):\n",
    "    qi_train = pd.DataFrame(np.power(np.matrix(train_X), i))\n",
    "    qi_train.columns = ['x{}_{}'.format(j, i) for j in range(len(train_X.columns))]\n",
    "    \n",
    "    if i == 2:\n",
    "        new_train_X = pd.concat([pd.Series([1.] * len(train_X)), train_X, qi_train], axis=1)\n",
    "    else:\n",
    "        new_train_X = pd.concat([new_train_X, qi_train], axis=1)\n",
    "\n",
    "# transform test\n",
    "for i in range(2, objective_power + 1):\n",
    "    qi_test = pd.DataFrame(np.power(np.matrix(test_X), i))\n",
    "    qi_test.columns = ['x{}_{}'.format(j, i) for j in range(len(test_X.columns))]\n",
    "    \n",
    "    if i == 2:\n",
    "        new_test_X = pd.concat([pd.Series([1.] * len(test_X)), test_X, qi_test], axis=1)\n",
    "    else:\n",
    "        new_test_X = pd.concat([new_test_X, qi_test], axis=1)\n",
    "new_test_X = np.matrix(new_test_X)\n",
    "\n",
    "# get w\n",
    "new_train_X = np.matrix(new_train_X)\n",
    "w = np.linalg.inv(np.transpose(new_train_X).dot(new_train_X)).dot(np.transpose(new_train_X)).dot(train_y)\n",
    "\n",
    "# get ein\n",
    "ein = 0\n",
    "for j in range(len(new_train_X)):  # 跑每筆資料\n",
    "    y_predict = w.dot(np.transpose(new_train_X[j])).item()\n",
    "    if sign(y_predict) * train_y[j] < 0:\n",
    "        ein += 1\n",
    "ein /= len(train_X)\n",
    "\n",
    "# get eout\n",
    "eout = 0\n",
    "for j in range(len(new_test_X)):  # 跑每筆資料\n",
    "    y_predict = w.dot(np.transpose(new_test_X[j])).item()\n",
    "    if sign(y_predict) * test_y[j] < 0:\n",
    "        eout += 1\n",
    "eout /= len(test_X)\n",
    "print(ein)\n",
    "print(eout)\n",
    "print(abs(ein - eout))"
   ]
  },
  {
   "cell_type": "code",
   "execution_count": 85,
   "id": "5760f391",
   "metadata": {},
   "outputs": [
    {
     "name": "stdout",
     "output_type": "stream",
     "text": [
      "0.168\n",
      "0.5066666666666667\n",
      "0.33866666666666667\n"
     ]
    }
   ],
   "source": [
    "# Q14\n",
    "\n",
    "# transform train\n",
    "train_X_matrix = np.matrix(train_X)\n",
    "train_X_list = train_X_matrix.tolist()\n",
    "new_train_X = []\n",
    "for row in train_X_list:\n",
    "    row_transformed = []\n",
    "    for j in range(len(row)):\n",
    "        row_transformed.append(row[j])  # 一次項\n",
    "        for k in range(j, len(row)):  # 二次項和交互項\n",
    "            row_transformed.append(row[j] * row[k])\n",
    "    new_train_X.append(row_transformed)\n",
    "new_train_X = pd.DataFrame(new_train_X)\n",
    "new_train_X = pd.concat([pd.Series([1.] * len(new_train_X)), new_train_X], axis=1)\n",
    "\n",
    "# transform test\n",
    "test_X_matrix = np.matrix(test_X)\n",
    "test_X_list = test_X_matrix.tolist()\n",
    "new_test_X = []\n",
    "for row in test_X_list:\n",
    "    row_transformed = []\n",
    "    for j in range(len(row)):\n",
    "        row_transformed.append(row[j])  # 一次項\n",
    "        for k in range(j, len(row)):  # 二次項和交互項\n",
    "            row_transformed.append(row[j] * row[k])\n",
    "    new_test_X.append(row_transformed)\n",
    "new_test_X = pd.DataFrame(new_test_X)\n",
    "new_test_X = pd.concat([pd.Series([1.] * len(new_test_X)), new_test_X], axis=1)\n",
    "new_test_X = np.matrix(new_test_X)\n",
    "\n",
    "# get w\n",
    "new_train_X = np.matrix(new_train_X)\n",
    "w = np.linalg.inv(np.transpose(new_train_X).dot(new_train_X)).dot(np.transpose(new_train_X)).dot(train_y)\n",
    "\n",
    "# get ein\n",
    "ein = 0\n",
    "for j in range(len(new_train_X)):  # 跑每筆資料\n",
    "    y_predict = w.dot(np.transpose(new_train_X[j])).item()\n",
    "    if sign(y_predict) * train_y[j] < 0:\n",
    "        ein += 1\n",
    "ein /= len(train_X)\n",
    "\n",
    "# get eout\n",
    "eout = 0\n",
    "for j in range(len(new_test_X)):  # 跑每筆資料\n",
    "    y_predict = w.dot(np.transpose(new_test_X[j])).item()\n",
    "    if sign(y_predict) * test_y[j] < 0:\n",
    "        eout += 1\n",
    "eout /= len(test_X)\n",
    "\n",
    "print(ein)\n",
    "print(eout)\n",
    "print(abs(ein - eout))"
   ]
  },
  {
   "cell_type": "code",
   "execution_count": 93,
   "id": "835287a1",
   "metadata": {},
   "outputs": [
    {
     "name": "stdout",
     "output_type": "stream",
     "text": [
      "0.1323333333333333\n",
      "3\n"
     ]
    }
   ],
   "source": [
    "# Q15\n",
    "min_abs = np.inf\n",
    "min_abs_i = -1\n",
    "\n",
    "for i in range(1, len(train_X.columns) + 1):\n",
    "    # transform train\n",
    "    new_train_X = train_X.iloc[:, :i]\n",
    "    new_train_X = pd.concat([pd.Series([1.] * len(new_train_X)), new_train_X], axis=1)\n",
    "\n",
    "    # transform test\n",
    "    new_test_X = test_X.iloc[:, :i]\n",
    "    new_test_X = pd.concat([pd.Series([1.] * len(new_test_X)), new_test_X], axis=1)\n",
    "    new_test_X = np.matrix(new_test_X)\n",
    "\n",
    "    # get w\n",
    "    new_train_X = np.matrix(new_train_X)\n",
    "    w = np.linalg.inv(np.transpose(new_train_X).dot(new_train_X)).dot(np.transpose(new_train_X)).dot(train_y)\n",
    "\n",
    "    # get ein\n",
    "    ein = 0\n",
    "    for j in range(len(new_train_X)):  # 跑每筆資料\n",
    "        y_predict = w.dot(np.transpose(new_train_X[j])).item()\n",
    "        if sign(y_predict) * train_y[j] < 0:\n",
    "            ein += 1\n",
    "    ein /= len(train_X)\n",
    "\n",
    "    # get eout\n",
    "    eout = 0\n",
    "    for j in range(len(new_test_X)):  # 跑每筆資料\n",
    "        y_predict = w.dot(np.transpose(new_test_X[j])).item()\n",
    "        if sign(y_predict) * test_y[j] < 0:\n",
    "            eout += 1\n",
    "    eout /= len(test_X)\n",
    "    \n",
    "    # comparison\n",
    "    now_abs = abs(ein - eout)\n",
    "    if now_abs < min_abs:\n",
    "        min_abs = now_abs\n",
    "        min_abs_i = i\n",
    "\n",
    "print(min_abs)\n",
    "print(min_abs_i)"
   ]
  },
  {
   "cell_type": "code",
   "execution_count": 112,
   "id": "b83e88a3",
   "metadata": {},
   "outputs": [
    {
     "name": "stdout",
     "output_type": "stream",
     "text": [
      "0.20348833333333327\n"
     ]
    }
   ],
   "source": [
    "# Q16\n",
    "import random\n",
    "avg_abs = 0\n",
    "\n",
    "for i in range(200):\n",
    "    rand_cols = [i for i in range(0, 10)]\n",
    "    random.shuffle(rand_cols)\n",
    "    \n",
    "    # transform train\n",
    "    new_train_X = train_X.iloc[:, rand_cols[:5]]\n",
    "    new_train_X = pd.concat([pd.Series([1.] * len(new_train_X)), new_train_X], axis=1)\n",
    "\n",
    "    # transform test\n",
    "    new_test_X = test_X.iloc[:, rand_cols[:5]]\n",
    "    new_test_X = pd.concat([pd.Series([1.] * len(new_test_X)), new_test_X], axis=1)\n",
    "    new_test_X = np.matrix(new_test_X)\n",
    "\n",
    "    # get w\n",
    "    new_train_X = np.matrix(new_train_X)\n",
    "    w = np.linalg.inv(np.transpose(new_train_X).dot(new_train_X)).dot(np.transpose(new_train_X)).dot(train_y)\n",
    "\n",
    "    # get ein\n",
    "    ein = 0\n",
    "    for j in range(len(new_train_X)):  # 跑每筆資料\n",
    "        y_predict = w.dot(np.transpose(new_train_X[j])).item()\n",
    "        if sign(y_predict) * train_y[j] < 0:\n",
    "            ein += 1\n",
    "    ein /= len(train_X)\n",
    "\n",
    "    # get eout\n",
    "    eout = 0\n",
    "    for j in range(len(new_test_X)):  # 跑每筆資料\n",
    "        y_predict = w.dot(np.transpose(new_test_X[j])).item()\n",
    "        if sign(y_predict) * test_y[j] < 0:\n",
    "            eout += 1\n",
    "    eout /= len(test_X)\n",
    "    \n",
    "    # comparison\n",
    "    now_abs = abs(ein - eout)\n",
    "    avg_abs += now_abs\n",
    "avg_abs /= 200\n",
    "print(avg_abs)"
   ]
  },
  {
   "cell_type": "code",
   "execution_count": 69,
   "id": "28b82c50",
   "metadata": {},
   "outputs": [
    {
     "data": {
      "text/plain": [
       "array([1, 2, 3, 2, 4, 6, 3, 6, 9])"
      ]
     },
     "execution_count": 69,
     "metadata": {},
     "output_type": "execute_result"
    }
   ],
   "source": [
    "a = np.matrix([1, 2, 3])\n",
    "b = np.matrix([1, 2, 3])\n",
    "np.asarray(np.transpose(a).dot(b)).ravel()"
   ]
  },
  {
   "cell_type": "code",
   "execution_count": 76,
   "id": "17c45fa0",
   "metadata": {},
   "outputs": [
    {
     "data": {
      "text/plain": [
       "matrix([[1, 2, 3],\n",
       "        [1, 2, 3],\n",
       "        [1, 2, 3],\n",
       "        [4, 5, 6]])"
      ]
     },
     "execution_count": 76,
     "metadata": {},
     "output_type": "execute_result"
    }
   ],
   "source": [
    "a = [[1, 2, 3], [1, 2, 3], [1, 2, 3]]\n",
    "a.append([4, 5, 6])\n",
    "np.matrix(a)"
   ]
  },
  {
   "cell_type": "code",
   "execution_count": 94,
   "id": "1fdb2f04",
   "metadata": {},
   "outputs": [
    {
     "data": {
      "text/html": [
       "<div>\n",
       "<style scoped>\n",
       "    .dataframe tbody tr th:only-of-type {\n",
       "        vertical-align: middle;\n",
       "    }\n",
       "\n",
       "    .dataframe tbody tr th {\n",
       "        vertical-align: top;\n",
       "    }\n",
       "\n",
       "    .dataframe thead th {\n",
       "        text-align: right;\n",
       "    }\n",
       "</style>\n",
       "<table border=\"1\" class=\"dataframe\">\n",
       "  <thead>\n",
       "    <tr style=\"text-align: right;\">\n",
       "      <th></th>\n",
       "      <th>x2</th>\n",
       "      <th>x4</th>\n",
       "      <th>x6</th>\n",
       "    </tr>\n",
       "  </thead>\n",
       "  <tbody>\n",
       "    <tr>\n",
       "      <th>0</th>\n",
       "      <td>2.447427</td>\n",
       "      <td>-0.073541</td>\n",
       "      <td>-1.156375</td>\n",
       "    </tr>\n",
       "    <tr>\n",
       "      <th>1</th>\n",
       "      <td>-0.032933</td>\n",
       "      <td>3.488505</td>\n",
       "      <td>0.230978</td>\n",
       "    </tr>\n",
       "    <tr>\n",
       "      <th>2</th>\n",
       "      <td>0.974854</td>\n",
       "      <td>-0.495228</td>\n",
       "      <td>-4.663177</td>\n",
       "    </tr>\n",
       "    <tr>\n",
       "      <th>3</th>\n",
       "      <td>2.500225</td>\n",
       "      <td>-0.063074</td>\n",
       "      <td>-0.245143</td>\n",
       "    </tr>\n",
       "    <tr>\n",
       "      <th>4</th>\n",
       "      <td>-3.535660</td>\n",
       "      <td>-0.592387</td>\n",
       "      <td>3.946650</td>\n",
       "    </tr>\n",
       "    <tr>\n",
       "      <th>...</th>\n",
       "      <td>...</td>\n",
       "      <td>...</td>\n",
       "      <td>...</td>\n",
       "    </tr>\n",
       "    <tr>\n",
       "      <th>995</th>\n",
       "      <td>3.799662</td>\n",
       "      <td>-2.039952</td>\n",
       "      <td>-2.209466</td>\n",
       "    </tr>\n",
       "    <tr>\n",
       "      <th>996</th>\n",
       "      <td>3.591435</td>\n",
       "      <td>0.477297</td>\n",
       "      <td>-1.840870</td>\n",
       "    </tr>\n",
       "    <tr>\n",
       "      <th>997</th>\n",
       "      <td>-0.425107</td>\n",
       "      <td>1.630583</td>\n",
       "      <td>-1.497379</td>\n",
       "    </tr>\n",
       "    <tr>\n",
       "      <th>998</th>\n",
       "      <td>3.401544</td>\n",
       "      <td>2.335762</td>\n",
       "      <td>-0.723847</td>\n",
       "    </tr>\n",
       "    <tr>\n",
       "      <th>999</th>\n",
       "      <td>2.365236</td>\n",
       "      <td>3.034365</td>\n",
       "      <td>-1.531832</td>\n",
       "    </tr>\n",
       "  </tbody>\n",
       "</table>\n",
       "<p>1000 rows × 3 columns</p>\n",
       "</div>"
      ],
      "text/plain": [
       "           x2        x4        x6\n",
       "0    2.447427 -0.073541 -1.156375\n",
       "1   -0.032933  3.488505  0.230978\n",
       "2    0.974854 -0.495228 -4.663177\n",
       "3    2.500225 -0.063074 -0.245143\n",
       "4   -3.535660 -0.592387  3.946650\n",
       "..        ...       ...       ...\n",
       "995  3.799662 -2.039952 -2.209466\n",
       "996  3.591435  0.477297 -1.840870\n",
       "997 -0.425107  1.630583 -1.497379\n",
       "998  3.401544  2.335762 -0.723847\n",
       "999  2.365236  3.034365 -1.531832\n",
       "\n",
       "[1000 rows x 3 columns]"
      ]
     },
     "execution_count": 94,
     "metadata": {},
     "output_type": "execute_result"
    }
   ],
   "source": [
    "train_X.iloc[:, [1, 3, 5]]"
   ]
  },
  {
   "cell_type": "code",
   "execution_count": 109,
   "id": "3e4e9784",
   "metadata": {},
   "outputs": [
    {
     "data": {
      "text/plain": [
       "[4, 0, 6, 1, 7]"
      ]
     },
     "execution_count": 109,
     "metadata": {},
     "output_type": "execute_result"
    }
   ],
   "source": [
    "import random\n",
    "rand_cols = [i for i in range(0, 10)]\n",
    "random.shuffle(rand_cols)\n",
    "rand_cols[:5]"
   ]
  },
  {
   "cell_type": "code",
   "execution_count": null,
   "id": "2c7a0110",
   "metadata": {},
   "outputs": [],
   "source": []
  },
  {
   "cell_type": "code",
   "execution_count": null,
   "id": "21238338",
   "metadata": {},
   "outputs": [],
   "source": []
  }
 ],
 "metadata": {
  "kernelspec": {
   "display_name": "Python 3",
   "language": "python",
   "name": "python3"
  },
  "language_info": {
   "codemirror_mode": {
    "name": "ipython",
    "version": 3
   },
   "file_extension": ".py",
   "mimetype": "text/x-python",
   "name": "python",
   "nbconvert_exporter": "python",
   "pygments_lexer": "ipython3",
   "version": "3.9.5"
  }
 },
 "nbformat": 4,
 "nbformat_minor": 5
}
