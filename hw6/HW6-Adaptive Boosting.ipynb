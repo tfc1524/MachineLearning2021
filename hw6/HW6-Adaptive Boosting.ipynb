{
 "cells": [
  {
   "cell_type": "code",
   "execution_count": 1,
   "id": "66bcb973",
   "metadata": {},
   "outputs": [],
   "source": [
    "import pandas as pd\n",
    "import numpy as np\n",
    "import datetime\n",
    "import math"
   ]
  },
  {
   "cell_type": "code",
   "execution_count": 2,
   "id": "82401ab9",
   "metadata": {},
   "outputs": [],
   "source": [
    "def sign(z):\n",
    "    if z > 0:\n",
    "        return 1\n",
    "    else:\n",
    "        return -1"
   ]
  },
  {
   "cell_type": "code",
   "execution_count": 3,
   "id": "4e2482f7",
   "metadata": {},
   "outputs": [],
   "source": [
    "# 算epsilon_t用\n",
    "def count_weighted_epsilon(weights, real_y, predicted_y):  # 皆為 numpy\n",
    "    error = 0\n",
    "    for i in range(len(real_y)):\n",
    "        if real_y[i] != predicted_y[i]:\n",
    "            error += weights[i]\n",
    "    epsilon = error / sum(weights)\n",
    "    return epsilon"
   ]
  },
  {
   "cell_type": "code",
   "execution_count": 4,
   "id": "21490b0c",
   "metadata": {},
   "outputs": [],
   "source": [
    "# 找decision stump的Ein_u用\n",
    "def count_e_with_u(weights, real_y, predicted_y):  # 皆為 numpy\n",
    "    error = 0\n",
    "    for i in range(len(real_y)):\n",
    "        if real_y[i] != predicted_y[i]:\n",
    "            error += weights[i]\n",
    "    e_u = error / len(real_y)\n",
    "    return e_u"
   ]
  },
  {
   "cell_type": "code",
   "execution_count": 5,
   "id": "86cbf81e",
   "metadata": {},
   "outputs": [],
   "source": [
    "# 算Ein, Eout用\n",
    "def count_e(real_y, predicted_y):  # 皆為 numpy\n",
    "    error = 0\n",
    "    for i in range(len(real_y)):\n",
    "        if real_y[i] != predicted_y[i]:\n",
    "            error += 1\n",
    "    e = error / len(real_y)\n",
    "    return e"
   ]
  },
  {
   "cell_type": "code",
   "execution_count": 6,
   "id": "7cae3334",
   "metadata": {},
   "outputs": [],
   "source": [
    "def decision_stump(weights, data_x, data_y):  # 皆為 numpy\n",
    "    min_Ein_u = float('inf')\n",
    "    best_s = 's'\n",
    "    best_theta = 't'\n",
    "    best_feature = 'i'\n",
    "    \n",
    "    s_list = [1, -1]\n",
    "    \n",
    "    for i in range(len(data_x[0])):  # 跑每個feature\n",
    "        min_Ein_u_i = float('inf')\n",
    "        best_s_i = 's'\n",
    "        best_theta_i = 't'\n",
    "\n",
    "        x_i = [data_x[j][i] for j in range(len(data_x))]  # 每筆data第i個feature\n",
    "        x_i.sort()  # 排序由小排到大\n",
    "        \n",
    "        # 先算theta = -inf的情況\n",
    "        now_theta = float('-inf')\n",
    "        for s in s_list:\n",
    "            predicted_y = np.array([s * sign(data_x[j][i] - now_theta) for j in range(len(data_x))])  # h(x)\n",
    "            now_epsilon = count_e_with_u(weights, data_y, predicted_y)  # 算Ein_u\n",
    "            \n",
    "            if now_epsilon < min_Ein_u_i:  # 比此feature中最小的還好\n",
    "                min_Ein_u_i = now_epsilon\n",
    "                best_s_i = s\n",
    "                best_theta_i = now_theta\n",
    "        \n",
    "        # theta = 任2數據中點的情況\n",
    "        for n in range(len(x_i) - 1):\n",
    "            now_theta = (x_i[n] + x_i[n + 1]) / 2\n",
    "            for s in s_list:\n",
    "                predicted_y = [s * sign(data_x[j][i] - now_theta) for j in range(len(data_x))]  # h(x)\n",
    "                now_epsilon = count_e_with_u(weights, data_y, predicted_y)\n",
    "                \n",
    "                if now_epsilon < min_Ein_u_i:  # 比此feature中最小的還好\n",
    "                    min_Ein_u_i = now_epsilon\n",
    "                    best_s_i = s\n",
    "                    best_theta_i = now_theta\n",
    "        \n",
    "        if min_Ein_u_i < min_Ein_u:  # Ein_u_i比這輪中最小的還好\n",
    "            min_Ein_u = min_Ein_u_i\n",
    "            best_s = best_s_i\n",
    "            best_theta = best_theta_i\n",
    "            best_feature = i\n",
    "    return best_s, best_theta, best_feature"
   ]
  },
  {
   "cell_type": "code",
   "execution_count": 7,
   "id": "70595b9e",
   "metadata": {},
   "outputs": [
    {
     "name": "stdout",
     "output_type": "stream",
     "text": [
      "training_size: 1000\n",
      "testing_size: 1000\n"
     ]
    }
   ],
   "source": [
    "training_data = pd.read_excel('hw6_train.xlsx')\n",
    "testing_data = pd.read_excel('hw6_test.xlsx')\n",
    "print('training_size:', len(training_data))\n",
    "print('testing_size:', len(testing_data))"
   ]
  },
  {
   "cell_type": "code",
   "execution_count": 8,
   "id": "59e86201",
   "metadata": {},
   "outputs": [],
   "source": [
    "train_X = training_data.drop('y', axis=1)\n",
    "train_X_np = np.asarray(train_X)\n",
    "train_y = training_data['y']\n",
    "train_y_np = np.array(train_y)"
   ]
  },
  {
   "cell_type": "code",
   "execution_count": 9,
   "id": "a82c864a",
   "metadata": {},
   "outputs": [],
   "source": [
    "test_X = testing_data.drop('y', axis=1)\n",
    "test_X_np = np.asarray(test_X)\n",
    "test_y = testing_data['y']\n",
    "test_y_np = np.array(test_y)"
   ]
  },
  {
   "cell_type": "code",
   "execution_count": 10,
   "id": "e00297b0",
   "metadata": {
    "scrolled": true
   },
   "outputs": [
    {
     "name": "stdout",
     "output_type": "stream",
     "text": [
      "starting iteration 0: 2022-01-07 23:46:49.946258\n",
      "Ein_g1: 0.374\n",
      "Eout_g1: 0.455\n",
      "starting iteration 10: 2022-01-07 23:49:28.566514\n",
      "starting iteration 20: 2022-01-07 23:52:03.929901\n",
      "starting iteration 30: 2022-01-07 23:54:39.004326\n",
      "starting iteration 40: 2022-01-07 23:57:23.600997\n",
      "starting iteration 50: 2022-01-08 00:00:08.992310\n",
      "starting iteration 60: 2022-01-08 00:02:45.789723\n",
      "starting iteration 70: 2022-01-08 00:06:27.413173\n",
      "starting iteration 80: 2022-01-08 00:08:59.703786\n",
      "starting iteration 90: 2022-01-08 00:11:36.205059\n",
      "starting iteration 100: 2022-01-08 00:14:09.999261\n",
      "starting iteration 110: 2022-01-08 00:16:41.965642\n",
      "starting iteration 120: 2022-01-08 00:19:17.545020\n",
      "starting iteration 130: 2022-01-08 00:21:54.465549\n",
      "starting iteration 140: 2022-01-08 00:24:27.747892\n",
      "starting iteration 150: 2022-01-08 00:27:04.808799\n",
      "starting iteration 160: 2022-01-08 00:29:41.174802\n",
      "starting iteration 170: 2022-01-08 00:32:19.991349\n",
      "starting iteration 180: 2022-01-08 00:34:54.076549\n",
      "starting iteration 190: 2022-01-08 00:37:27.846366\n",
      "starting iteration 200: 2022-01-08 00:39:59.153187\n",
      "starting iteration 210: 2022-01-08 00:42:30.143600\n",
      "starting iteration 220: 2022-01-08 00:45:02.386413\n",
      "starting iteration 230: 2022-01-08 00:47:38.381150\n",
      "starting iteration 240: 2022-01-08 00:50:13.687986\n",
      "starting iteration 250: 2022-01-08 00:52:47.212834\n",
      "starting iteration 260: 2022-01-08 00:55:20.284247\n",
      "starting iteration 270: 2022-01-08 00:57:52.359432\n",
      "starting iteration 280: 2022-01-08 01:00:38.115449\n",
      "starting iteration 290: 2022-01-08 01:03:17.282212\n",
      "starting iteration 300: 2022-01-08 01:05:53.443791\n",
      "starting iteration 310: 2022-01-08 01:08:29.906736\n",
      "starting iteration 320: 2022-01-08 01:11:09.237244\n",
      "starting iteration 330: 2022-01-08 01:13:45.793037\n",
      "starting iteration 340: 2022-01-08 01:16:19.139435\n",
      "starting iteration 350: 2022-01-08 01:18:51.803877\n",
      "starting iteration 360: 2022-01-08 01:21:27.194522\n",
      "starting iteration 370: 2022-01-08 01:24:22.234522\n",
      "starting iteration 380: 2022-01-08 01:26:59.231352\n",
      "starting iteration 390: 2022-01-08 01:29:32.382148\n",
      "starting iteration 400: 2022-01-08 01:32:05.609122\n",
      "starting iteration 410: 2022-01-08 01:34:37.600293\n",
      "starting iteration 420: 2022-01-08 01:37:11.407273\n",
      "starting iteration 430: 2022-01-08 01:39:49.820984\n",
      "starting iteration 440: 2022-01-08 01:42:26.308990\n",
      "starting iteration 450: 2022-01-08 01:45:03.016502\n",
      "starting iteration 460: 2022-01-08 01:47:35.932914\n",
      "starting iteration 470: 2022-01-08 01:50:11.550153\n",
      "starting iteration 480: 2022-01-08 01:53:52.368288\n",
      "starting iteration 490: 2022-01-08 01:56:30.456062\n"
     ]
    }
   ],
   "source": [
    "weight_u = np.array([1 / len(train_X) for i in range(len(train_X))])  # 初始weight\n",
    "max_Ein_g = float('-inf')  # for Q12, Ein最大的g_t之Ein\n",
    "find_first_005T = 0  # for Q13, 是否找到第一個T使Ein(G_T) <= 0.05, 0為否, 1為是\n",
    "\n",
    "train_G_x_sum = np.array([0.] * len(train_y_np))  # 計算sigma(alpha_t * g_t(x_train))\n",
    "test_G_x_sum = np.array([0.] * len(test_y_np))  # 計算sigma(alpha_t * g_t(x_test))\n",
    "test_G_x_uniform_sum = np.array([0.] * len(test_y_np))  # 計算sigma(alpha_t * g_t(x_test)) for G_uniform\n",
    "\n",
    "for t in range(500):\n",
    "    if t % 10 == 0:\n",
    "        print('starting iteration {}: {}'.format(t, datetime.datetime.now()))\n",
    "\n",
    "    # 決定此輪decision stump\n",
    "    s_t, theta_t, feature_t = decision_stump(weight_u, train_X_np, train_y_np)\n",
    "    \n",
    "    # 決定預測結果g_t(x)和epsilon, scaling和算Ein(G)用\n",
    "    prediction_y_t = np.array([s_t * sign(train_X_np[j][feature_t] - theta_t) for j in range(len(train_X_np))])\n",
    "    epsilon_t = count_weighted_epsilon(weight_u, train_y_np, prediction_y_t)\n",
    "    predict_result = prediction_y_t * train_y_np  # 每個data point預測正確與否，正確為1，反之-1\n",
    "    \n",
    "    # for Q12, 決定Ein_g\n",
    "    Ein_g = count_e(train_y_np, prediction_y_t)\n",
    "\n",
    "    if Ein_g > max_Ein_g:  # Q12\n",
    "        max_Ein_g = Ein_g\n",
    "    \n",
    "    if t == 0:  # Q11, Q14\n",
    "        # 使用g1在testing data上做預測\n",
    "        prediction_y_0_testd = np.array([s_t * sign(test_X_np[j][feature_t] - theta_t) for j in range(len(test_X_np))])\n",
    "        Eout_g1 = count_e(test_y_np, prediction_y_0_testd)\n",
    "        print('Ein_g1:', Ein_g)  # Q11\n",
    "        print('Eout_g1:', Eout_g1)  # Q14\n",
    "    \n",
    "    # 更新scaling factor, weight_u, alpha_t\n",
    "    scaling_factor = ((1-epsilon_t) / epsilon_t) ** 0.5\n",
    "    weight_u = np.array([weight_u[j] * (scaling_factor ** -predict_result[j]) for j in range(len(weight_u))])\n",
    "    alpha_t = math.log(scaling_factor)\n",
    "    \n",
    "    # 更新G(x)\n",
    "    # for Q13, 在training data上執行G(x)更新，每輪 + alpha_t * g_t(x)\n",
    "    if find_first_005T == 0:  # 只有還沒找到時需要持續更新此項目\n",
    "        train_G_x_sum = np.array([train_G_x_sum[j] + (alpha_t * prediction_y_t[j]) for j in range(len(train_G_x_sum))])\n",
    "        prediction_G_traind = np.array([sign(train_G_x_sum[j]) for j in range(len(train_G_x_sum))])  # 此輪G在training的預測結果\n",
    "        Ein_G_T = count_e(train_y_np, prediction_G_traind)\n",
    "        if Ein_G_T <= 0.05:\n",
    "            find_first_005T = 1\n",
    "            first_005T = t\n",
    "    \n",
    "    # for Q15, Q16, 在testing data上執行G(x)更新，每輪 + (alpha_t * ) g_t(x)\n",
    "    prediction_y_t_testd = np.array([s_t * sign(test_X_np[j][feature_t] - theta_t) for j in range(len(test_X_np))])\n",
    "    test_G_x_sum = np.array([test_G_x_sum[j] + (alpha_t * prediction_y_t_testd[j]) for j in range(len(test_G_x_sum))])\n",
    "    test_G_x_uniform_sum = np.array([test_G_x_uniform_sum[j] + prediction_y_t_testd[j] for j in range(len(test_G_x_sum))])"
   ]
  },
  {
   "cell_type": "code",
   "execution_count": 11,
   "id": "21919d0f",
   "metadata": {},
   "outputs": [
    {
     "name": "stdout",
     "output_type": "stream",
     "text": [
      "max Ein(g_t): 0.591\n",
      "smallest t s.t. Ein(G_T) <= 0.05: 354\n",
      "Eout_G: 0.188\n",
      "Eout_G_uniform: 0.225\n"
     ]
    }
   ],
   "source": [
    "# Q12\n",
    "print('max Ein(g_t): {}'.format(max_Ein_g))\n",
    "\n",
    "# Q13\n",
    "print('smallest t s.t. Ein(G_T) <= 0.05: {}'.format(first_005T))\n",
    "\n",
    "# Q15, Q16\n",
    "prediction_G_testd = np.array([sign(test_G_x_sum[j]) for j in range(len(test_G_x_sum))])\n",
    "Eout_G = count_e(test_y_np, prediction_G_testd)\n",
    "print('Eout_G: {:.3f}'.format(Eout_G))\n",
    "\n",
    "prediction_G_testd_uniform = np.array([sign(test_G_x_uniform_sum[j]) for j in range(len(test_G_x_uniform_sum))])\n",
    "Eout_G_uniform = count_e(test_y_np, prediction_G_testd_uniform)\n",
    "print('Eout_G_uniform: {:.3f}'.format(Eout_G_uniform))"
   ]
  },
  {
   "cell_type": "code",
   "execution_count": null,
   "id": "b262630b",
   "metadata": {},
   "outputs": [],
   "source": []
  }
 ],
 "metadata": {
  "kernelspec": {
   "display_name": "Python 3",
   "language": "python",
   "name": "python3"
  },
  "language_info": {
   "codemirror_mode": {
    "name": "ipython",
    "version": 3
   },
   "file_extension": ".py",
   "mimetype": "text/x-python",
   "name": "python",
   "nbconvert_exporter": "python",
   "pygments_lexer": "ipython3",
   "version": "3.9.5"
  }
 },
 "nbformat": 4,
 "nbformat_minor": 5
}
