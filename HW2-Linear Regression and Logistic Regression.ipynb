{
 "cells": [
  {
   "cell_type": "code",
   "execution_count": 1,
   "id": "d310d6e8",
   "metadata": {},
   "outputs": [],
   "source": [
    "import pandas as pd\n",
    "import numpy as np\n",
    "import random\n",
    "import datetime\n",
    "import math"
   ]
  },
  {
   "cell_type": "code",
   "execution_count": 2,
   "id": "9ee81149",
   "metadata": {},
   "outputs": [],
   "source": [
    "# generating data\n",
    "def data_generator(train_num, test_num):\n",
    "    training_set = []\n",
    "    for i in range(train_num):\n",
    "        y = 2*random.randint(0, 1) - 1  # 產生0則y=-1，產生1則y=1\n",
    "        if y == 1:\n",
    "            x1 = random.normalvariate(2, 0.6 ** 0.5)\n",
    "            x2 = random.normalvariate(3, 0.6 ** 0.5)\n",
    "        elif y == -1:\n",
    "            x1 = random.normalvariate(0, 0.4 ** 0.5)\n",
    "            x2 = random.normalvariate(4, 0.4 ** 0.5)\n",
    "        training_set.append([1, x1, x2, y])\n",
    "\n",
    "    testing_set = []\n",
    "    for i in range(test_num):\n",
    "        y = 2*random.randint(0, 1) - 1  # 產生0則y=-1，產生1則y=1\n",
    "        if y == 1:\n",
    "            x1 = random.normalvariate(2, 0.6 ** 0.5)\n",
    "            x2 = random.normalvariate(3, 0.6 ** 0.5)\n",
    "        elif y == -1:\n",
    "            x1 = random.normalvariate(0, 0.4 ** 0.5)\n",
    "            x2 = random.normalvariate(4, 0.4 ** 0.5)\n",
    "        testing_set.append([1, x1, x2, y])\n",
    "    train = pd.DataFrame(training_set, columns=['x0', 'x1', 'x2', 'y'])\n",
    "    test = pd.DataFrame(testing_set, columns=['x0', 'x1', 'x2', 'y'])\n",
    "    return train, test"
   ]
  },
  {
   "cell_type": "code",
   "execution_count": 3,
   "id": "95eb7b1b",
   "metadata": {},
   "outputs": [],
   "source": [
    "def data_generator_with_outlier(train_num, test_num, outlier_num):\n",
    "    training_set = []\n",
    "    for i in range(train_num):\n",
    "        y = 2*random.randint(0, 1) - 1  # 產生0則y=-1，產生1則y=1\n",
    "        if y == 1:\n",
    "            x1 = random.normalvariate(2, 0.6 ** 0.5)\n",
    "            x2 = random.normalvariate(3, 0.6 ** 0.5)\n",
    "        elif y == -1:\n",
    "            x1 = random.normalvariate(0, 0.4 ** 0.5)\n",
    "            x2 = random.normalvariate(4, 0.4 ** 0.5)\n",
    "        training_set.append([1, x1, x2, y])\n",
    "    \n",
    "    for i in range(outlier_num):\n",
    "        y = 1  # 全部label為1\n",
    "        x1 = random.normalvariate(6, 0.3 ** 0.5)\n",
    "        x2 = random.normalvariate(0, 0.1 ** 0.5)\n",
    "        training_set.append([1, x1, x2, y])\n",
    "\n",
    "    testing_set = []\n",
    "    for i in range(test_num):\n",
    "        y = 2*random.randint(0, 1) - 1  # 產生0則y=-1，產生1則y=1\n",
    "        if y == 1:\n",
    "            x1 = random.normalvariate(2, 0.6 ** 0.5)\n",
    "            x2 = random.normalvariate(3, 0.6 ** 0.5)\n",
    "        elif y == -1:\n",
    "            x1 = random.normalvariate(0, 0.4 ** 0.5)\n",
    "            x2 = random.normalvariate(4, 0.4 ** 0.5)\n",
    "        testing_set.append([1, x1, x2, y])\n",
    "    train = pd.DataFrame(training_set, columns=['x0', 'x1', 'x2', 'y'])\n",
    "    test = pd.DataFrame(testing_set, columns=['x0', 'x1', 'x2', 'y'])\n",
    "    return train, test"
   ]
  },
  {
   "cell_type": "code",
   "execution_count": 19,
   "id": "6dde2e60",
   "metadata": {},
   "outputs": [
    {
     "data": {
      "text/html": [
       "<div>\n",
       "<style scoped>\n",
       "    .dataframe tbody tr th:only-of-type {\n",
       "        vertical-align: middle;\n",
       "    }\n",
       "\n",
       "    .dataframe tbody tr th {\n",
       "        vertical-align: top;\n",
       "    }\n",
       "\n",
       "    .dataframe thead th {\n",
       "        text-align: right;\n",
       "    }\n",
       "</style>\n",
       "<table border=\"1\" class=\"dataframe\">\n",
       "  <thead>\n",
       "    <tr style=\"text-align: right;\">\n",
       "      <th></th>\n",
       "      <th>x0</th>\n",
       "      <th>x1</th>\n",
       "      <th>x2</th>\n",
       "      <th>y</th>\n",
       "    </tr>\n",
       "  </thead>\n",
       "  <tbody>\n",
       "    <tr>\n",
       "      <th>0</th>\n",
       "      <td>1</td>\n",
       "      <td>1.116427</td>\n",
       "      <td>3.624175</td>\n",
       "      <td>1</td>\n",
       "    </tr>\n",
       "    <tr>\n",
       "      <th>1</th>\n",
       "      <td>1</td>\n",
       "      <td>2.333818</td>\n",
       "      <td>3.244168</td>\n",
       "      <td>1</td>\n",
       "    </tr>\n",
       "    <tr>\n",
       "      <th>2</th>\n",
       "      <td>1</td>\n",
       "      <td>0.705970</td>\n",
       "      <td>2.505672</td>\n",
       "      <td>1</td>\n",
       "    </tr>\n",
       "  </tbody>\n",
       "</table>\n",
       "</div>"
      ],
      "text/plain": [
       "   x0        x1        x2  y\n",
       "0   1  1.116427  3.624175  1\n",
       "1   1  2.333818  3.244168  1\n",
       "2   1  0.705970  2.505672  1"
      ]
     },
     "execution_count": 19,
     "metadata": {},
     "output_type": "execute_result"
    }
   ],
   "source": [
    "train_data, test_data = data_generator(train_num=200, test_num=5000)\n",
    "train_data.head(3)"
   ]
  },
  {
   "cell_type": "code",
   "execution_count": 61,
   "id": "612790fc",
   "metadata": {},
   "outputs": [
    {
     "name": "stdout",
     "output_type": "stream",
     "text": [
      "0.2811757551388505\n"
     ]
    }
   ],
   "source": [
    "# Q13\n",
    "total_ein = 0\n",
    "for i in range(100):\n",
    "    train_data, test_data = data_generator(train_num=200, test_num=5000)\n",
    "    train_X = np.matrix(train_data.drop('y', axis=1))\n",
    "    train_y = np.array(train_data['y'])\n",
    "    w = np.linalg.inv(np.transpose(train_X).dot(train_X)).dot(np.transpose(train_X)).dot(train_y)\n",
    "    \n",
    "    ein = 0\n",
    "    for j in range(len(train_X)):  # 跑每筆資料\n",
    "        y_predict = w.dot(np.transpose(train_X[j])).item()\n",
    "        ein += (y_predict - train_y[j]) ** 2\n",
    "    ein /= len(train_X)\n",
    "    total_ein += ein\n",
    "total_ein /= 100\n",
    "print(total_ein)"
   ]
  },
  {
   "cell_type": "code",
   "execution_count": 63,
   "id": "e76e097e",
   "metadata": {},
   "outputs": [
    {
     "name": "stdout",
     "output_type": "stream",
     "text": [
      "0.013822\n"
     ]
    }
   ],
   "source": [
    "# Q14\n",
    "total_err_diff = 0\n",
    "for i in range(100):\n",
    "    train_data, test_data = data_generator(train_num=200, test_num=5000)\n",
    "    train_X = np.matrix(train_data.drop('y', axis=1))\n",
    "    train_y = np.array(train_data['y'])\n",
    "    test_X = np.matrix(test_data.drop('y', axis=1))\n",
    "    test_y = np.array(test_data['y'])\n",
    "    w = np.linalg.inv(np.transpose(train_X).dot(train_X)).dot(np.transpose(train_X)).dot(train_y)\n",
    "    \n",
    "    # ein\n",
    "    errin = 0\n",
    "    for j in range(len(train_X)):  # 跑每筆資料\n",
    "        y_predict = w.dot(np.transpose(train_X[j])).item()\n",
    "        if y_predict >= 0:\n",
    "            y_predict = 1\n",
    "        else:\n",
    "            y_predict = -1\n",
    "        \n",
    "        if y_predict != train_y[j]:\n",
    "            errin += 1\n",
    "    \n",
    "    errin /= len(train_X)\n",
    "    \n",
    "    # eout\n",
    "    errout = 0\n",
    "    for j in range(len(test_X)):  # 跑每筆資料\n",
    "        y_predict = w.dot(np.transpose(test_X[j])).item()\n",
    "        if y_predict >= 0:\n",
    "            y_predict = 1\n",
    "        else:\n",
    "            y_predict = -1\n",
    "        \n",
    "        if y_predict != test_y[j]:\n",
    "            errout += 1\n",
    "    \n",
    "    errout /= len(test_X)\n",
    "    \n",
    "    total_err_diff += abs(errin - errout)\n",
    "total_err_diff /= 100\n",
    "print(total_err_diff)"
   ]
  },
  {
   "cell_type": "code",
   "execution_count": 65,
   "id": "18000441",
   "metadata": {},
   "outputs": [
    {
     "data": {
      "text/plain": [
       "array([0., 0., 0.])"
      ]
     },
     "execution_count": 65,
     "metadata": {},
     "output_type": "execute_result"
    }
   ],
   "source": [
    "wlog = np.array([0.] * 3)\n",
    "wlog"
   ]
  },
  {
   "cell_type": "code",
   "execution_count": 97,
   "id": "878b49e6",
   "metadata": {},
   "outputs": [
    {
     "name": "stdout",
     "output_type": "stream",
     "text": [
      "Eout(A): 0.05807599999999998\n",
      "Eout(B): 0.059755999999999976\n"
     ]
    }
   ],
   "source": [
    "# Q15\n",
    "total_eoutlr = 0\n",
    "total_eoutlog = 0\n",
    "for i in range(100):\n",
    "    train_data, test_data = data_generator(train_num=200, test_num=5000)\n",
    "    train_X = np.matrix(train_data.drop('y', axis=1))\n",
    "    train_y = np.array(train_data['y'])\n",
    "    test_X = np.matrix(test_data.drop('y', axis=1))\n",
    "    test_y = np.array(test_data['y'])\n",
    "    wlin = np.linalg.inv(np.transpose(train_X).dot(train_X)).dot(np.transpose(train_X)).dot(train_y)\n",
    "    \n",
    "    # eout of LR\n",
    "    eoutlr = 0\n",
    "    for j in range(len(test_X)):  # 跑每筆資料\n",
    "        y_predict = wlin.dot(np.transpose(test_X[j])).item()\n",
    "        if y_predict >= 0:\n",
    "            y_predict = 1\n",
    "        else:\n",
    "            y_predict = -1\n",
    "        \n",
    "        if y_predict != test_y[j]:\n",
    "            eoutlr += 1\n",
    "    \n",
    "    eoutlr /= len(test_X)\n",
    "    total_eoutlr += eoutlr\n",
    "    \n",
    "    # training wlog\n",
    "    learning_rate = 0.1\n",
    "    wlog = np.array([0.] * 3)\n",
    "    for t in range(500):\n",
    "        for j in range(len(train_X)):\n",
    "            s = -train_y[j] * wlog.dot(np.transpose(train_X[j])).item()\n",
    "            if j == 0:\n",
    "                gradient_einw = (1 / (1+math.exp(-s))) * (-train_y[j] * train_X[j])\n",
    "            else:\n",
    "                gradient_einw += (1 / (1+math.exp(-s))) * (-train_y[j] * train_X[j])\n",
    "        gradient_einw /= len(train_X)\n",
    "        gradient_einw = np.ravel(gradient_einw)\n",
    "        wlog -= learning_rate * gradient_einw  # updating wlog\n",
    "    # eout of Log\n",
    "    eoutlog = 0\n",
    "    for j in range(len(test_X)):  # 跑每筆資料\n",
    "        s = wlog.dot(np.transpose(test_X[j])).item()\n",
    "        prob = 1 / (1+math.exp(-s))\n",
    "        \n",
    "        if prob >= 0.5:\n",
    "            y_predict = 1\n",
    "        else:\n",
    "            y_predict = -1\n",
    "        \n",
    "        if y_predict != test_y[j]:\n",
    "            eoutlog += 1\n",
    "    eoutlog /= len(test_X)\n",
    "    total_eoutlog += eoutlog\n",
    "\n",
    "total_eoutlr /= 100\n",
    "total_eoutlog /= 100\n",
    "print('Eout(A):', total_eoutlr)\n",
    "print('Eout(B):', total_eoutlog)"
   ]
  },
  {
   "cell_type": "code",
   "execution_count": 4,
   "id": "a7615302",
   "metadata": {},
   "outputs": [
    {
     "name": "stdout",
     "output_type": "stream",
     "text": [
      "Eout(A): 0.09187800000000002\n",
      "Eout(B): 0.05915800000000001\n"
     ]
    }
   ],
   "source": [
    "# Q16\n",
    "total_eoutlr = 0\n",
    "total_eoutlog = 0\n",
    "for i in range(100):\n",
    "    train_data, test_data = data_generator_with_outlier(train_num=200, test_num=5000, outlier_num=20)\n",
    "    \n",
    "    train_X = np.matrix(train_data.drop('y', axis=1))\n",
    "    train_y = np.array(train_data['y'])\n",
    "    test_X = np.matrix(test_data.drop('y', axis=1))\n",
    "    test_y = np.array(test_data['y'])\n",
    "    wlin = np.linalg.inv(np.transpose(train_X).dot(train_X)).dot(np.transpose(train_X)).dot(train_y)\n",
    "    \n",
    "    # eout of LR\n",
    "    eoutlr = 0\n",
    "    for j in range(len(test_X)):  # 跑每筆資料\n",
    "        y_predict = wlin.dot(np.transpose(test_X[j])).item()\n",
    "        if y_predict >= 0:\n",
    "            y_predict = 1\n",
    "        else:\n",
    "            y_predict = -1\n",
    "        \n",
    "        if y_predict != test_y[j]:\n",
    "            eoutlr += 1\n",
    "    \n",
    "    eoutlr /= len(test_X)\n",
    "    total_eoutlr += eoutlr\n",
    "    \n",
    "    # training wlog\n",
    "    learning_rate = 0.1\n",
    "    wlog = np.array([0.] * 3)\n",
    "    for t in range(500):\n",
    "        for j in range(len(train_X)):\n",
    "            s = -train_y[j] * wlog.dot(np.transpose(train_X[j])).item()\n",
    "            if j == 0:\n",
    "                gradient_einw = (1 / (1+math.exp(-s))) * (-train_y[j] * train_X[j])\n",
    "            else:\n",
    "                gradient_einw += (1 / (1+math.exp(-s))) * (-train_y[j] * train_X[j])\n",
    "        gradient_einw /= len(train_X)\n",
    "        gradient_einw = np.ravel(gradient_einw)\n",
    "        wlog -= learning_rate * gradient_einw  # updating wlog\n",
    "    # eout of Log\n",
    "    eoutlog = 0\n",
    "    for j in range(len(test_X)):  # 跑每筆資料\n",
    "        s = wlog.dot(np.transpose(test_X[j])).item()\n",
    "        prob = 1 / (1+math.exp(-s))\n",
    "        \n",
    "        if prob >= 0.5:\n",
    "            y_predict = 1\n",
    "        else:\n",
    "            y_predict = -1\n",
    "        \n",
    "        if y_predict != test_y[j]:\n",
    "            eoutlog += 1\n",
    "    eoutlog /= len(test_X)\n",
    "    total_eoutlog += eoutlog\n",
    "\n",
    "total_eoutlr /= 100\n",
    "total_eoutlog /= 100\n",
    "print('Eout(A):', total_eoutlr)\n",
    "print('Eout(B):', total_eoutlog)"
   ]
  },
  {
   "cell_type": "code",
   "execution_count": null,
   "id": "9fd5598e",
   "metadata": {},
   "outputs": [],
   "source": []
  }
 ],
 "metadata": {
  "kernelspec": {
   "display_name": "Python 3",
   "language": "python",
   "name": "python3"
  },
  "language_info": {
   "codemirror_mode": {
    "name": "ipython",
    "version": 3
   },
   "file_extension": ".py",
   "mimetype": "text/x-python",
   "name": "python",
   "nbconvert_exporter": "python",
   "pygments_lexer": "ipython3",
   "version": "3.9.5"
  }
 },
 "nbformat": 4,
 "nbformat_minor": 5
}
